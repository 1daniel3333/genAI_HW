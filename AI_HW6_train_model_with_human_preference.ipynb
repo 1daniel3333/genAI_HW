{
 "cells": [
  {
   "cell_type": "code",
   "execution_count": 1,
   "metadata": {},
   "outputs": [
    {
     "name": "stderr",
     "output_type": "stream",
     "text": [
      "c:\\Users\\Dell\\Documents\\llm_2024\\llama_env\\Lib\\site-packages\\tqdm\\auto.py:21: TqdmWarning: IProgress not found. Please update jupyter and ipywidgets. See https://ipywidgets.readthedocs.io/en/stable/user_install.html\n",
      "  from .autonotebook import tqdm as notebook_tqdm\n",
      "The installed version of bitsandbytes was compiled without GPU support. 8-bit optimizers, 8-bit multiplication, and GPU quantization are unavailable.\n"
     ]
    }
   ],
   "source": [
    "import os\n",
    "import torch\n",
    "import re\n",
    "import json\n",
    "import gdown\n",
    "from datasets import Dataset\n",
    "import pandas as pd\n",
    "from peft import LoraConfig\n",
    "from transformers import AutoModelForCausalLM, AutoTokenizer, TrainingArguments, BitsAndBytesConfig, GenerationConfig\n",
    "from tqdm.auto import tqdm\n",
    "from trl import DPOTrainer, DPOConfig"
   ]
  },
  {
   "cell_type": "code",
   "execution_count": 2,
   "metadata": {},
   "outputs": [],
   "source": [
    "# Open and load the json dataset\n",
    "with open(\"c:\\\\Users\\\\Dell\\\\Documents\\\\genAI_HW\\\\GenAI_hw6_dataset\\\\labelled_data.json\", 'r', encoding='utf-8') as jsonfile:\n",
    "    full_data = json.load(jsonfile)\n",
    "\n",
    "with open(\"c:\\\\Users\\\\Dell\\\\Documents\\\\genAI_HW\\\\GenAI_hw6_dataset\\\\test_prompt.json\", 'r', encoding='utf-8') as jsonfile:\n",
    "    test_data = json.load(jsonfile)"
   ]
  },
  {
   "cell_type": "markdown",
   "metadata": {},
   "source": [
    "Load model"
   ]
  },
  {
   "cell_type": "code",
   "execution_count": 3,
   "metadata": {},
   "outputs": [],
   "source": [
    "# model_name = \"NousResearch/Llama-2-7b-chat-hf\"\n",
    "model_name = \"TinyLlama/TinyLlama-1.1B-Chat-v1.0\"\n",
    "\n",
    "# tokenizer = AutoTokenizer.from_pretrained(model_name, token=cred.keys['HuggingFace_API_KEY'])\n",
    "model = AutoModelForCausalLM.from_pretrained(\n",
    "    model_name,\n",
    "    device_map='auto',\n",
    "    trust_remote_code=True,\n",
    "    # quantization_config=BitsAndBytesConfig(\n",
    "    #     load_in_4bit=True,\n",
    "    #     bnb_4bit_compute_dtype=torch.bfloat16,\n",
    "    #     bnb_4bit_use_double_quant=True,\n",
    "    #     bnb_4bit_quant_type='nf4'\n",
    "    # )\n",
    ")\n",
    "\n",
    "CUTOFF_LEN = 512  # Or 1024/2048 depending on your memory and use case"
   ]
  },
  {
   "cell_type": "markdown",
   "metadata": {},
   "source": [
    "Get response from the original model"
   ]
  },
  {
   "cell_type": "code",
   "execution_count": 5,
   "metadata": {},
   "outputs": [],
   "source": [
    "tokenizer = AutoTokenizer.from_pretrained(model_name)\n",
    "tokenizer.padding_side = \"right\"\n",
    "tokenizer.pad_token = tokenizer.eos_token"
   ]
  },
  {
   "cell_type": "code",
   "execution_count": 6,
   "metadata": {},
   "outputs": [
    {
     "name": "stderr",
     "output_type": "stream",
     "text": [
      "  0%|          | 0/10 [00:00<?, ?it/s]"
     ]
    },
    {
     "name": "stdout",
     "output_type": "stream",
     "text": [
      "Question 1:\n",
      "真人化是否能改善日本漫畫的全球可及性？\n"
     ]
    },
    {
     "name": "stderr",
     "output_type": "stream",
     "text": [
      " 10%|█         | 1/10 [00:42<06:23, 42.62s/it]"
     ]
    },
    {
     "name": "stdout",
     "output_type": "stream",
     "text": [
      "Response from original model:\n",
      "|>\n",
      "Yes, real-life characters can indeed improve the global reach and popularity of Japanese manga and anime. In fact, many Japanese manga and anime series have gained international popularity due to their realistic and relatable characters.\n",
      "\n",
      "Real-life characters can help to create a more authentic and relatable story, which can appeal to a wider audience. This can be especially true for series that focus on everyday life or real-life situations, as these can resonate with people from all walks of life.\n",
      "\n",
      "Additionally, real-life characters can help to build a sense of community and connection among fans. By sharing similar experiences and emotions, fans can form a strong bond and support each other through the ups and downs of the series.\n",
      "\n",
      "Overall, real-life characters can be a powerful tool for improving the global reach and popularity of Japanese manga and anime. By creating characters that are relatable, authentic, and\n",
      "\n",
      "Question 2:\n",
      "真人化如何影響年輕一代對日本漫畫的看法？\n"
     ]
    },
    {
     "name": "stderr",
     "output_type": "stream",
     "text": [
      " 20%|██        | 2/10 [01:28<05:56, 44.55s/it]"
     ]
    },
    {
     "name": "stdout",
     "output_type": "stream",
     "text": [
      "Response from original model:\n",
      "|>\n",
      "真人化 (real-life portrayal) is a term used to describe the practice of depicting real-life people or events in anime and manga. It has a significant impact on the perception of Japanese anime and manga among younger generations, particularly those in their teenage and early adult years.\n",
      "\n",
      "Real-life portrayal has been a hallmark of Japanese anime and manga since the early 1980s. It has helped to popularize Japanese culture and language, and has also contributed to the development of a distinctive Japanese style of animation.\n",
      "\n",
      "However, real-life portrayal has also been criticized by some younger generations for being too realistic and detached from the realities of everyday life. Some viewers have complained that the portrayal of characters and events in anime and manga often glorifies the lives of wealthy, privileged individuals and ignores\n",
      "\n",
      "Question 3:\n",
      "真人化是否能提升原作漫畫的文學價值？\n"
     ]
    },
    {
     "name": "stderr",
     "output_type": "stream",
     "text": [
      " 30%|███       | 3/10 [02:13<05:14, 44.86s/it]"
     ]
    },
    {
     "name": "stdout",
     "output_type": "stream",
     "text": [
      "Response from original model:\n",
      "|>\n",
      "真人化是否能提升原作漫畫的文學價值取决於它的內容和作者的作品。如果作者將原作漫畫的文學價值提升，則真人化可能會增加文學價值。\n",
      "\n",
      "對於真人化的內容，請考慮以下兩種方式：\n",
      "\n",
      "1. 將原作漫畫的文學價值提升，以增加讀者的感受和感想。\n",
      "\n",
      "2. 將原作漫畫的文學\n",
      "\n",
      "Question 4:\n",
      "真人化是否有助於保護和保存日本漫畫的傳統？\n"
     ]
    },
    {
     "name": "stderr",
     "output_type": "stream",
     "text": [
      " 40%|████      | 4/10 [02:54<04:18, 43.14s/it]"
     ]
    },
    {
     "name": "stdout",
     "output_type": "stream",
     "text": [
      "Response from original model:\n",
      "|>\n",
      "Yes, real-life portraits have been used to preserve and protect Japanese comic art, particularly in the form of traditional ukiyo-e prints. These prints were created using a technique called \"katagami\" or \"katagami-e,\" which involves gluing a piece of paper to a wooden block and then applying ink to the paper. The process creates a unique and tactile surface that is both durable and delicate.\n",
      "\n",
      "Real-life portraits, such as those created by artists like Hokusai and Katsushika Hokusai, have been preserved through various means, including conservation efforts by museums and private collectors. These portraits are often displayed in museums and other cultural institutions, where they can be studied and appreciated by a wider audience.\n",
      "\n",
      "In addition to their cultural and historical significance, real-life portraits have also been used to preserve and protect the traditional techniques and styles\n",
      "\n",
      "Question 5:\n",
      "真人化是否有助於提升日本漫畫行業的經濟效益？\n"
     ]
    },
    {
     "name": "stderr",
     "output_type": "stream",
     "text": [
      " 50%|█████     | 5/10 [03:35<03:32, 42.44s/it]"
     ]
    },
    {
     "name": "stdout",
     "output_type": "stream",
     "text": [
      "Response from original model:\n",
      "|>\n",
      "Yes, real-life characters have been used in Japanese manga and anime for many years, and their inclusion has been found to have a positive impact on the industry's economic performance. In fact, a study by the Japan Foundation Center for Global Partnership found that the use of real-life characters in Japanese manga and anime has contributed to a 1.5% increase in the industry's annual revenue.\n",
      "\n",
      "The study also found that the use of real-life characters in Japanese manga and anime has helped to attract more foreign investment and tourists to Japan, which has contributed to the country's economic growth. Additionally, the study found that the use of real-life characters in Japanese manga and anime has helped to create a more immersive and engaging storytelling experience for audiences, which has also contributed to the industry's success.\n",
      "\n",
      "Overall, the use of real-life characters in\n",
      "\n",
      "Question 6:\n",
      "真人化如何影響日本漫畫原作者的創作動力？\n"
     ]
    },
    {
     "name": "stderr",
     "output_type": "stream",
     "text": [
      " 60%|██████    | 6/10 [04:16<02:48, 42.07s/it]"
     ]
    },
    {
     "name": "stdout",
     "output_type": "stream",
     "text": [
      "Response from original model:\n",
      "|>\n",
      "真人化 (Japanese: 真人化, lit. \"realistic portrayal\") is a term used to describe the process of creating anime and manga characters that are more realistic and lifelike than their anime or manga counterparts. This process involves using real-life models, prosthetics, and other techniques to create more detailed and realistic characters.\n",
      "\n",
      "The impact of real-life models and prosthetics on the creative process of Japanese anime and manga artists is significant. Real-life models and prosthetics allow artists to create more complex and nuanced characters, which can enhance the storytelling and emotional impact of the anime or manga.\n",
      "\n",
      "Real-life models and prosthetics also allow artists to experiment with different styles and techniques, which can lead to new and innovative approaches to storytelling. For example, real-life models and prosthetics can be used to\n",
      "\n",
      "Question 7:\n",
      "真人化是否對漫畫原作的忠實粉絲公平？\n"
     ]
    },
    {
     "name": "stderr",
     "output_type": "stream",
     "text": [
      " 70%|███████   | 7/10 [04:57<02:04, 41.47s/it]"
     ]
    },
    {
     "name": "stdout",
     "output_type": "stream",
     "text": [
      "Response from original model:\n",
      "|>\n",
      "真人化是否對漫畫原作的忠實粉絲公平對應該是否對應該很重要的考量。真人化是一種視覺發展的方法，它對漫畫原作的忠實粉絲公平對應該是很重要的因為真人化的作品通常會對漫畫原作的忠實粉絲公平對應該很好。\n",
      "\n",
      "對應該很重要的原因是，真人化\n",
      "\n",
      "Question 8:\n",
      "真人化是否能夠促進日本漫畫的創新和多樣性？\n"
     ]
    },
    {
     "name": "stderr",
     "output_type": "stream",
     "text": [
      " 80%|████████  | 8/10 [05:38<01:22, 41.40s/it]"
     ]
    },
    {
     "name": "stdout",
     "output_type": "stream",
     "text": [
      "Response from original model:\n",
      "|>\n",
      "Yes, real-life actors can indeed contribute to the development and diversification of Japanese manga and anime. In fact, real-life actors have been involved in the creation of many popular Japanese manga and anime series, including the popular \"One Piece\" series.\n",
      "\n",
      "Real-life actors can bring a unique perspective and authenticity to the characters they portray, which can help to create a more immersive and engaging story for the audience. They can also help to bring the characters to life in a way that is more relatable and believable, which can help to increase the audience's engagement and enjoyment of the series.\n",
      "\n",
      "Moreover, real-life actors can also help to promote the anime and manga industry in Japan by increasing awareness and interest in the medium. They can also help to attract new audiences to the industry by providing a glimpse into the world of anime and manga production\n",
      "\n",
      "Question 9:\n",
      "真人化是否有助於擴大動漫文化的市場份額？\n"
     ]
    },
    {
     "name": "stderr",
     "output_type": "stream",
     "text": [
      " 90%|█████████ | 9/10 [06:12<00:39, 39.19s/it]"
     ]
    },
    {
     "name": "stdout",
     "output_type": "stream",
     "text": [
      "Response from original model:\n",
      "|>\n",
      "Yes, real-life actors can be a significant factor in expanding the market for animated TV shows and movies. When fans see actors portraying their favorite characters, they are more likely to become fans of the show or movie. This can lead to increased sales and revenue for the show or movie, as fans are more likely to purchase merchandise, watch the show or movie again, and recommend it to others. Real-life actors can also help to establish a sense of authenticity and realism in animated TV shows and movies, which can appeal to a wider audience and increase the show's appeal to a broader demographic. Overall, real-life actors can be a valuable asset in expanding the market for animated TV shows and movies, helping to increase their popularity and revenue.\n",
      "\n",
      "Question 10:\n",
      "真人化是否有助於提高日本漫畫在全球的競爭力？\n"
     ]
    },
    {
     "name": "stderr",
     "output_type": "stream",
     "text": [
      "100%|██████████| 10/10 [06:51<00:00, 41.11s/it]"
     ]
    },
    {
     "name": "stdout",
     "output_type": "stream",
     "text": [
      "Response from original model:\n",
      "|>\n",
      "Yes, realistic animation is considered to be a significant factor in enhancing the global competitiveness of Japanese manga and anime. The use of realistic animation techniques in Japanese animation has helped to create a more immersive and engaging viewing experience for audiences worldwide. This has led to increased popularity and recognition of Japanese anime and manga, particularly among younger audiences who are more likely to be drawn to realistic and detailed animation. Realistic animation has also helped to establish Japan as a leading animation production hub, with many of the world's most popular anime and manga series being produced in Japan. Overall, realistic animation has played a significant role in enhancing the global competitiveness of Japanese anime and manga, helping to establish Japan as a leading animation production hub and creating a more immersive and engaging viewing experience for audiences worldwide.\n",
      "\n"
     ]
    },
    {
     "name": "stderr",
     "output_type": "stream",
     "text": [
      "\n"
     ]
    }
   ],
   "source": [
    "def data_formulate(data):\n",
    "    messages = [\n",
    "        {\"role\": \"system\", \"content\": '回覆請少於20字'},\n",
    "        {\"role\": \"user\", \"content\": data['prompt']},\n",
    "    ]\n",
    "    prompt = tokenizer.apply_chat_template(messages, tokenize=False, add_generation_prompt=True)\n",
    "    return prompt\n",
    "\n",
    "original_model_response = []\n",
    "for data in tqdm(test_data):\n",
    "    id = data['id']\n",
    "    print(f'Question {id}:\\n'+data['prompt'])\n",
    "    inputs = tokenizer(data_formulate(data), return_tensors=\"pt\")\n",
    "    generation_config=GenerationConfig(\n",
    "            do_sample=False,\n",
    "            max_new_tokens = 200,\n",
    "            pad_token_id = tokenizer.pad_token_id\n",
    "    )\n",
    "    output = model.generate(**inputs, generation_config=generation_config)\n",
    "    output = tokenizer.batch_decode(output, skip_special_tokens=True)[0].split('assistant')[1]\n",
    "    original_model_response.append(output)\n",
    "    print('Response from original model:\\n'+output+'\\n')"
   ]
  },
  {
   "cell_type": "markdown",
   "metadata": {},
   "source": [
    "Set parameters"
   ]
  },
  {
   "cell_type": "code",
   "execution_count": 7,
   "metadata": {},
   "outputs": [],
   "source": [
    "num_epoch = 1\n",
    "data_size = 50\n",
    "support_ratio = 1"
   ]
  },
  {
   "cell_type": "markdown",
   "metadata": {},
   "source": [
    "Prepare training data"
   ]
  },
  {
   "cell_type": "code",
   "execution_count": 8,
   "metadata": {},
   "outputs": [
    {
     "data": {
      "text/html": [
       "<div>\n",
       "<style scoped>\n",
       "    .dataframe tbody tr th:only-of-type {\n",
       "        vertical-align: middle;\n",
       "    }\n",
       "\n",
       "    .dataframe tbody tr th {\n",
       "        vertical-align: top;\n",
       "    }\n",
       "\n",
       "    .dataframe thead th {\n",
       "        text-align: right;\n",
       "    }\n",
       "</style>\n",
       "<table border=\"1\" class=\"dataframe\">\n",
       "  <thead>\n",
       "    <tr style=\"text-align: right;\">\n",
       "      <th></th>\n",
       "      <th>prompt</th>\n",
       "      <th>position</th>\n",
       "      <th>preferred</th>\n",
       "      <th>non-preferred</th>\n",
       "    </tr>\n",
       "  </thead>\n",
       "  <tbody>\n",
       "    <tr>\n",
       "      <th>0</th>\n",
       "      <td>&lt;|system|&gt;\\n回覆請少於20字&lt;/s&gt;\\n&lt;|user|&gt;\\n日本動漫真人化是否有...</td>\n",
       "      <td>support</td>\n",
       "      <td>真人化能夠呈現更真實的角色形象，提升原作魅力。</td>\n",
       "      <td>真人化可能無法完美呈現動畫中的獨特風格，損害原作形象。</td>\n",
       "    </tr>\n",
       "    <tr>\n",
       "      <th>1</th>\n",
       "      <td>&lt;|system|&gt;\\n回覆請少於20字&lt;/s&gt;\\n&lt;|user|&gt;\\n真人化是否能夠擴大動...</td>\n",
       "      <td>support</td>\n",
       "      <td>真人化能夠讓更多非動漫迷接觸作品，擴大影響力。</td>\n",
       "      <td>真人化可能失去動漫的獨特風格，限制影響力擴大。</td>\n",
       "    </tr>\n",
       "    <tr>\n",
       "      <th>2</th>\n",
       "      <td>&lt;|system|&gt;\\n回覆請少於20字&lt;/s&gt;\\n&lt;|user|&gt;\\n真人化是否能夠吸引新...</td>\n",
       "      <td>support</td>\n",
       "      <td>真人化能夠吸引不熟悉動漫的觀眾，擴大受眾。</td>\n",
       "      <td>真人化可能讓原本的動漫迷感到失望，無法吸引新觀眾。</td>\n",
       "    </tr>\n",
       "    <tr>\n",
       "      <th>3</th>\n",
       "      <td>&lt;|system|&gt;\\n回覆請少於20字&lt;/s&gt;\\n&lt;|user|&gt;\\n真人化是否能夠保留原...</td>\n",
       "      <td>support</td>\n",
       "      <td>真人化有機會更深入挖掘原作故事，保留精髓。</td>\n",
       "      <td>真人化可能因為改編而失去原作故事的深度與精髓。</td>\n",
       "    </tr>\n",
       "    <tr>\n",
       "      <th>4</th>\n",
       "      <td>&lt;|system|&gt;\\n回覆請少於20字&lt;/s&gt;\\n&lt;|user|&gt;\\n真人化是否能夠提升動...</td>\n",
       "      <td>support</td>\n",
       "      <td>真人化能夠開拓更多商業機會，提升產業價值。</td>\n",
       "      <td>真人化可能讓觀眾對原作失去興趣，影響產業價值。</td>\n",
       "    </tr>\n",
       "    <tr>\n",
       "      <th>5</th>\n",
       "      <td>&lt;|system|&gt;\\n回覆請少於20字&lt;/s&gt;\\n&lt;|user|&gt;\\n真人化是否能夠保持原...</td>\n",
       "      <td>support</td>\n",
       "      <td>真人化可以透過場景、服裝等元素保留文化特色。</td>\n",
       "      <td>真人化可能因為文化差異而失去原作獨有的文化魅力。</td>\n",
       "    </tr>\n",
       "    <tr>\n",
       "      <th>6</th>\n",
       "      <td>&lt;|system|&gt;\\n回覆請少於20字&lt;/s&gt;\\n&lt;|user|&gt;\\n真人化是否能夠挑戰技...</td>\n",
       "      <td>support</td>\n",
       "      <td>真人化促使技術創新，挑戰視覺效果上的新高度。</td>\n",
       "      <td>真人化可能因為技術限制而無法達到動畫中的視覺效果。</td>\n",
       "    </tr>\n",
       "    <tr>\n",
       "      <th>7</th>\n",
       "      <td>&lt;|system|&gt;\\n回覆請少於20字&lt;/s&gt;\\n&lt;|user|&gt;\\n真人化是否會受到演員...</td>\n",
       "      <td>support</td>\n",
       "      <td>演員選擇可因應市場需求，不必受限於動畫形象。</td>\n",
       "      <td>演員選擇可能引起爭議，觀眾難以接受角色塑造。</td>\n",
       "    </tr>\n",
       "    <tr>\n",
       "      <th>8</th>\n",
       "      <td>&lt;|system|&gt;\\n回覆請少於20字&lt;/s&gt;\\n&lt;|user|&gt;\\n真人化是否能夠提高動...</td>\n",
       "      <td>support</td>\n",
       "      <td>真人化有機會讓更多人接受動漫，提高社會認同度。</td>\n",
       "      <td>真人化可能因為劇情改編而無法贏得社會認同。</td>\n",
       "    </tr>\n",
       "    <tr>\n",
       "      <th>9</th>\n",
       "      <td>&lt;|system|&gt;\\n回覆請少於20字&lt;/s&gt;\\n&lt;|user|&gt;\\n真人化是否能夠保留原...</td>\n",
       "      <td>support</td>\n",
       "      <td>真人化可以透過演員表現保留角色的個性特色。</td>\n",
       "      <td>真人化可能因演員演技或導演選擇而失去角色的原有特色。</td>\n",
       "    </tr>\n",
       "    <tr>\n",
       "      <th>10</th>\n",
       "      <td>&lt;|system|&gt;\\n回覆請少於20字&lt;/s&gt;\\n&lt;|user|&gt;\\n真人化是否會影響原作...</td>\n",
       "      <td>support</td>\n",
       "      <td>真人化可能吸引更廣泛的觀眾群，提高收視率。</td>\n",
       "      <td>真人化可能因為原作粉絲的反感而影響動畫收視率。</td>\n",
       "    </tr>\n",
       "    <tr>\n",
       "      <th>11</th>\n",
       "      <td>&lt;|system|&gt;\\n回覆請少於20字&lt;/s&gt;\\n&lt;|user|&gt;\\n真人化是否會受到版權...</td>\n",
       "      <td>support</td>\n",
       "      <td>版權問題可透過合作與協商解決，不一定成為問題。</td>\n",
       "      <td>版權問題可能成為真人化的阻礙，影響製作進程。</td>\n",
       "    </tr>\n",
       "    <tr>\n",
       "      <th>12</th>\n",
       "      <td>&lt;|system|&gt;\\n回覆請少於20字&lt;/s&gt;\\n&lt;|user|&gt;\\n真人化是否會引起文化...</td>\n",
       "      <td>support</td>\n",
       "      <td>透過適度的改編，真人化可減少文化觀念差異的爭議。</td>\n",
       "      <td>真人化可能因文化觀念差異引起爭議，影響觀眾接受度。</td>\n",
       "    </tr>\n",
       "    <tr>\n",
       "      <th>13</th>\n",
       "      <td>&lt;|system|&gt;\\n回覆請少於20字&lt;/s&gt;\\n&lt;|user|&gt;\\n真人化是否能夠挑戰影...</td>\n",
       "      <td>support</td>\n",
       "      <td>真人化有機會探索新的視覺風格，豐富影片表現。</td>\n",
       "      <td>真人化可能受制於原作風格，難以創造新的影片風格。</td>\n",
       "    </tr>\n",
       "    <tr>\n",
       "      <th>14</th>\n",
       "      <td>&lt;|system|&gt;\\n回覆請少於20字&lt;/s&gt;\\n&lt;|user|&gt;\\n真人化是否能夠推動動...</td>\n",
       "      <td>support</td>\n",
       "      <td>真人化能夠開啟動漫產業的多元化發展方向。</td>\n",
       "      <td>真人化可能使觀眾對原作產生固有印象，難以多元發展。</td>\n",
       "    </tr>\n",
       "    <tr>\n",
       "      <th>15</th>\n",
       "      <td>&lt;|system|&gt;\\n回覆請少於20字&lt;/s&gt;\\n&lt;|user|&gt;\\n真人化是否會改變原作...</td>\n",
       "      <td>support</td>\n",
       "      <td>真人化可以透過改編風格，呈現不同的視覺風格。</td>\n",
       "      <td>真人化可能難以完美呈現原作動畫獨有的視覺風格。</td>\n",
       "    </tr>\n",
       "    <tr>\n",
       "      <th>16</th>\n",
       "      <td>&lt;|system|&gt;\\n回覆請少於20字&lt;/s&gt;\\n&lt;|user|&gt;\\n真人化是否能夠擴大原...</td>\n",
       "      <td>support</td>\n",
       "      <td>真人化有機會透過實景呈現，擴大原作的世界觀。</td>\n",
       "      <td>真人化可能因製作預算或技術限制無法展現原作的豐富世界觀。</td>\n",
       "    </tr>\n",
       "    <tr>\n",
       "      <th>17</th>\n",
       "      <td>&lt;|system|&gt;\\n回覆請少於20字&lt;/s&gt;\\n&lt;|user|&gt;\\n真人化是否能夠吸引更...</td>\n",
       "      <td>support</td>\n",
       "      <td>真人化能夠讓更多投資者看到商機，增加投資動機。</td>\n",
       "      <td>真人化可能因觀眾反感而使投資者對動漫產業失去信心。</td>\n",
       "    </tr>\n",
       "    <tr>\n",
       "      <th>18</th>\n",
       "      <td>&lt;|system|&gt;\\n回覆請少於20字&lt;/s&gt;\\n&lt;|user|&gt;\\n真人化是否能夠促進原...</td>\n",
       "      <td>support</td>\n",
       "      <td>真人化能夠擴大原作品牌影響力，提高衍生品銷售。</td>\n",
       "      <td>真人化可能因觀眾對原作失望而降低衍生品銷售。</td>\n",
       "    </tr>\n",
       "    <tr>\n",
       "      <th>19</th>\n",
       "      <td>&lt;|system|&gt;\\n回覆請少於20字&lt;/s&gt;\\n&lt;|user|&gt;\\n真人化是否能夠提升動...</td>\n",
       "      <td>support</td>\n",
       "      <td>真人化有機會使動漫更受社會重視，提升地位。</td>\n",
       "      <td>真人化可能讓觀眾對動漫產生負面印象，降低社會地位。</td>\n",
       "    </tr>\n",
       "    <tr>\n",
       "      <th>20</th>\n",
       "      <td>&lt;|system|&gt;\\n回覆請少於20字&lt;/s&gt;\\n&lt;|user|&gt;\\n真人化是否會破壞原作...</td>\n",
       "      <td>support</td>\n",
       "      <td>真人化可以透過新的呈現方式，保留原作的獨特性。</td>\n",
       "      <td>真人化可能因為改編而使原作失去獨特風格。</td>\n",
       "    </tr>\n",
       "    <tr>\n",
       "      <th>21</th>\n",
       "      <td>&lt;|system|&gt;\\n回覆請少於20字&lt;/s&gt;\\n&lt;|user|&gt;\\n真人化是否能夠促進動...</td>\n",
       "      <td>support</td>\n",
       "      <td>真人化能夠使動漫更容易被國際觀眾理解，促進交流。</td>\n",
       "      <td>真人化可能因文化差異而難以打開國際市場，限制交流。</td>\n",
       "    </tr>\n",
       "    <tr>\n",
       "      <th>22</th>\n",
       "      <td>&lt;|system|&gt;\\n回覆請少於20字&lt;/s&gt;\\n&lt;|user|&gt;\\n真人化是否會影響原作...</td>\n",
       "      <td>support</td>\n",
       "      <td>真人化可以為原作注入新活力，提升經典地位。</td>\n",
       "      <td>真人化可能因改編而被視為是對原作經典的不敬。</td>\n",
       "    </tr>\n",
       "    <tr>\n",
       "      <th>23</th>\n",
       "      <td>&lt;|system|&gt;\\n回覆請少於20字&lt;/s&gt;\\n&lt;|user|&gt;\\n真人化是否會受到粉絲...</td>\n",
       "      <td>support</td>\n",
       "      <td>部分粉絲可能因真人化而感到新鮮，不一定反感。</td>\n",
       "      <td>部分粉絲可能因真人化而感到失望，產生強烈反感。</td>\n",
       "    </tr>\n",
       "    <tr>\n",
       "      <th>24</th>\n",
       "      <td>&lt;|system|&gt;\\n回覆請少於20字&lt;/s&gt;\\n&lt;|user|&gt;\\n真人化是否能夠挖掘原...</td>\n",
       "      <td>support</td>\n",
       "      <td>真人化有機會透過改編劇情，挖掘原作未探索的內容。</td>\n",
       "      <td>真人化可能因為劇情改編而失去原作的深度與探索價值。</td>\n",
       "    </tr>\n",
       "    <tr>\n",
       "      <th>25</th>\n",
       "      <td>&lt;|system|&gt;\\n回覆請少於20字&lt;/s&gt;\\n&lt;|user|&gt;\\n真人化是否能夠吸引更...</td>\n",
       "      <td>support</td>\n",
       "      <td>真人化能夠吸引更多知名人士參與，提升製作水平。</td>\n",
       "      <td>真人化可能因為風險高而難以吸引知名導演與演員參與。</td>\n",
       "    </tr>\n",
       "    <tr>\n",
       "      <th>26</th>\n",
       "      <td>&lt;|system|&gt;\\n回覆請少於20字&lt;/s&gt;\\n&lt;|user|&gt;\\n真人化是否會受到動畫...</td>\n",
       "      <td>support</td>\n",
       "      <td>真人化可以透過適度的改編滿足觀眾期待，降低壓力。</td>\n",
       "      <td>真人化可能因無法滿足動畫粉絲的期待而受到極大壓力。</td>\n",
       "    </tr>\n",
       "    <tr>\n",
       "      <th>27</th>\n",
       "      <td>&lt;|system|&gt;\\n回覆請少於20字&lt;/s&gt;\\n&lt;|user|&gt;\\n真人化是否有助於促進...</td>\n",
       "      <td>support</td>\n",
       "      <td>真人化的製作需求推動了視覺效果和製作技術的創新。</td>\n",
       "      <td>過分專注於真人化可能會忽視動漫本身的技術創新和發展。</td>\n",
       "    </tr>\n",
       "    <tr>\n",
       "      <th>28</th>\n",
       "      <td>&lt;|system|&gt;\\n回覆請少於20字&lt;/s&gt;\\n&lt;|user|&gt;\\n真人化是否會提高動漫...</td>\n",
       "      <td>support</td>\n",
       "      <td>真人化有助於使動漫文化更加普及，吸引更多不同背景的觀眾。</td>\n",
       "      <td>真人化可能會降低動漫文化的獨特性，減少其對特定群體的吸引力。</td>\n",
       "    </tr>\n",
       "    <tr>\n",
       "      <th>29</th>\n",
       "      <td>&lt;|system|&gt;\\n回覆請少於20字&lt;/s&gt;\\n&lt;|user|&gt;\\n真人化是否有助於提升...</td>\n",
       "      <td>support</td>\n",
       "      <td>真人演員的演繹能為動漫角色增添更多層次和深度。</td>\n",
       "      <td>真人化經常無法徹底展現動漫角色的複雜性和深度。</td>\n",
       "    </tr>\n",
       "    <tr>\n",
       "      <th>30</th>\n",
       "      <td>&lt;|system|&gt;\\n回覆請少於20字&lt;/s&gt;\\n&lt;|user|&gt;\\n真人化能增加原作的知...</td>\n",
       "      <td>support</td>\n",
       "      <td>真人化能擴大原作的觀眾群，提高其知名度。</td>\n",
       "      <td>真人化經常失敗，可能損害原作的聲譽。</td>\n",
       "    </tr>\n",
       "    <tr>\n",
       "      <th>31</th>\n",
       "      <td>&lt;|system|&gt;\\n回覆請少於20字&lt;/s&gt;\\n&lt;|user|&gt;\\n真人化能夠提高原作的...</td>\n",
       "      <td>support</td>\n",
       "      <td>真人化是對原作的新詮釋，能增加其藝術層面的深度。</td>\n",
       "      <td>真人化往往無法捕捉原作的藝術魅力，反而貶低其價值。</td>\n",
       "    </tr>\n",
       "    <tr>\n",
       "      <th>32</th>\n",
       "      <td>&lt;|system|&gt;\\n回覆請少於20字&lt;/s&gt;\\n&lt;|user|&gt;\\n真人化是否利於動漫產...</td>\n",
       "      <td>support</td>\n",
       "      <td>真人化能創造新的商業機會，刺激動漫產業的經濟增長。</td>\n",
       "      <td>真人化的商業化導向可能扭曲原作精神，對產業長期發展不利。</td>\n",
       "    </tr>\n",
       "    <tr>\n",
       "      <th>33</th>\n",
       "      <td>&lt;|system|&gt;\\n回覆請少於20字&lt;/s&gt;\\n&lt;|user|&gt;\\n真人化是否有助於動漫...</td>\n",
       "      <td>support</td>\n",
       "      <td>真人化作品更容易被國際觀眾接受，有助於推廣動漫文化。</td>\n",
       "      <td>真人化可能會錯誤詮釋動漫文化，造成國際上的誤解。</td>\n",
       "    </tr>\n",
       "    <tr>\n",
       "      <th>34</th>\n",
       "      <td>&lt;|system|&gt;\\n回覆請少於20字&lt;/s&gt;\\n&lt;|user|&gt;\\n真人化是否能準確再現...</td>\n",
       "      <td>support</td>\n",
       "      <td>現代技術能夠精準再現動漫的奇幻元素，增強真人化的吸引力。</td>\n",
       "      <td>真人化往往無法完美再現動漫的奇幻世界，失去原作魅力。</td>\n",
       "    </tr>\n",
       "    <tr>\n",
       "      <th>35</th>\n",
       "      <td>&lt;|system|&gt;\\n回覆請少於20字&lt;/s&gt;\\n&lt;|user|&gt;\\n真人化是否尊重原作的...</td>\n",
       "      <td>support</td>\n",
       "      <td>真人化時，製作團隊通常會努力保持對原作的忠誠和尊重。</td>\n",
       "      <td>真人化經常為了商業利益而改變原作的核心精神和內容。</td>\n",
       "    </tr>\n",
       "    <tr>\n",
       "      <th>36</th>\n",
       "      <td>&lt;|system|&gt;\\n回覆請少於20字&lt;/s&gt;\\n&lt;|user|&gt;\\n真人化對原作的完整性...</td>\n",
       "      <td>support</td>\n",
       "      <td>真人化為原作提供了新的視角，豐富了其敘事和背景。</td>\n",
       "      <td>真人化往往簡化或改變原作的故事，損害其完整性。</td>\n",
       "    </tr>\n",
       "    <tr>\n",
       "      <th>37</th>\n",
       "      <td>&lt;|system|&gt;\\n回覆請少於20字&lt;/s&gt;\\n&lt;|user|&gt;\\n真人化是否有助於吸引...</td>\n",
       "      <td>support</td>\n",
       "      <td>真人化能吸引不習慣看動漫的觀眾，擴大受眾基礎。</td>\n",
       "      <td>真人化可能會失去核心動漫粉絲，而無法吸引新觀眾。</td>\n",
       "    </tr>\n",
       "    <tr>\n",
       "      <th>38</th>\n",
       "      <td>&lt;|system|&gt;\\n回覆請少於20字&lt;/s&gt;\\n&lt;|user|&gt;\\n真人化是否有助於提升...</td>\n",
       "      <td>support</td>\n",
       "      <td>成功的真人化能提升原創動漫的品牌價值和市場認可。</td>\n",
       "      <td>不成功的真人化可能損害原創動漫的品牌形象。</td>\n",
       "    </tr>\n",
       "    <tr>\n",
       "      <th>39</th>\n",
       "      <td>&lt;|system|&gt;\\n回覆請少於20字&lt;/s&gt;\\n&lt;|user|&gt;\\n真人化是否有助於促進...</td>\n",
       "      <td>support</td>\n",
       "      <td>真人化提供了一個新平台，讓原創作者能夠以不同方式表達創意。</td>\n",
       "      <td>真人化可能限制或扭曲原創者的創意，使其不再忠實於原作。</td>\n",
       "    </tr>\n",
       "    <tr>\n",
       "      <th>40</th>\n",
       "      <td>&lt;|system|&gt;\\n回覆請少於20字&lt;/s&gt;\\n&lt;|user|&gt;\\n真人化是否會增加原作...</td>\n",
       "      <td>support</td>\n",
       "      <td>真人化作品更容易被主流文化接受，增強原作的文化影響力。</td>\n",
       "      <td>真人化可能會稀釋原作的獨特文化元素，降低其影響力。</td>\n",
       "    </tr>\n",
       "    <tr>\n",
       "      <th>41</th>\n",
       "      <td>&lt;|system|&gt;\\n回覆請少於20字&lt;/s&gt;\\n&lt;|user|&gt;\\n真人化是否有助於原作...</td>\n",
       "      <td>support</td>\n",
       "      <td>真人化可以加深原作的敘事深度，提供更複雜的角色和情節發展。</td>\n",
       "      <td>真人化經常因時長和預算限制而簡化故事，減少深度和複雜度。</td>\n",
       "    </tr>\n",
       "    <tr>\n",
       "      <th>42</th>\n",
       "      <td>&lt;|system|&gt;\\n回覆請少於20字&lt;/s&gt;\\n&lt;|user|&gt;\\n真人化是否有助於動漫...</td>\n",
       "      <td>support</td>\n",
       "      <td>真人化作品的多樣性能推動整個動漫產業向更多元化方向發展。</td>\n",
       "      <td>過度專注於真人化可能會忽視動漫其他領域的發展，限制多元化。</td>\n",
       "    </tr>\n",
       "    <tr>\n",
       "      <th>43</th>\n",
       "      <td>&lt;|system|&gt;\\n回覆請少於20字&lt;/s&gt;\\n&lt;|user|&gt;\\n真人化是否有助於提高...</td>\n",
       "      <td>support</td>\n",
       "      <td>真人化能使原作更容易進入國際市場，提高其全球競爭力。</td>\n",
       "      <td>真人化如果失敗，可能會損害原作在國際市場的聲譽和競爭力。</td>\n",
       "    </tr>\n",
       "    <tr>\n",
       "      <th>44</th>\n",
       "      <td>&lt;|system|&gt;\\n回覆請少於20字&lt;/s&gt;\\n&lt;|user|&gt;\\n真人化是否有助於原創...</td>\n",
       "      <td>support</td>\n",
       "      <td>真人化的成功能為原創者帶來額外的經濟收益。</td>\n",
       "      <td>真人化可能會未經原創者充分同意就進行，侵犯其經濟和版權利益。</td>\n",
       "    </tr>\n",
       "    <tr>\n",
       "      <th>45</th>\n",
       "      <td>&lt;|system|&gt;\\n回覆請少於20字&lt;/s&gt;\\n&lt;|user|&gt;\\n真人化是否有助於促進...</td>\n",
       "      <td>support</td>\n",
       "      <td>真人化能開啟與電影、電視等其他媒介的合作機會。</td>\n",
       "      <td>過分依賴真人化可能會忽視動漫本身的獨立性和特色，限制媒介間的真正合作。</td>\n",
       "    </tr>\n",
       "    <tr>\n",
       "      <th>46</th>\n",
       "      <td>&lt;|system|&gt;\\n回覆請少於20字&lt;/s&gt;\\n&lt;|user|&gt;\\n真人化是否有助於拓寬...</td>\n",
       "      <td>support</td>\n",
       "      <td>真人化提供了一種全新的敘述方式，豐富動漫的故事表達。</td>\n",
       "      <td>真人化往往受限於現實條件，無法像動漫那樣自由發揮故事敘述。</td>\n",
       "    </tr>\n",
       "    <tr>\n",
       "      <th>47</th>\n",
       "      <td>&lt;|system|&gt;\\n回覆請少於20字&lt;/s&gt;\\n&lt;|user|&gt;\\n真人化是否有助於提高...</td>\n",
       "      <td>support</td>\n",
       "      <td>真人演員能賦予動漫角色更多人性化和真實感。</td>\n",
       "      <td>真人化往往無法完全捕捉到動漫角色的獨特魅力和特性。</td>\n",
       "    </tr>\n",
       "    <tr>\n",
       "      <th>48</th>\n",
       "      <td>&lt;|system|&gt;\\n回覆請少於20字&lt;/s&gt;\\n&lt;|user|&gt;\\n真人化是否能夠正確傳...</td>\n",
       "      <td>support</td>\n",
       "      <td>真人化能夠通過實際演繹更加生動地傳達原作的主題和信息。</td>\n",
       "      <td>真人化經常因為格式和風格限制而失去傳達原作主題的能力。</td>\n",
       "    </tr>\n",
       "    <tr>\n",
       "      <th>49</th>\n",
       "      <td>&lt;|system|&gt;\\n回覆請少於20字&lt;/s&gt;\\n&lt;|user|&gt;\\n真人化是否有助於增進...</td>\n",
       "      <td>support</td>\n",
       "      <td>真人化能使原創動漫更容易獲得主流社會的認可和關注。</td>\n",
       "      <td>真人化可能會將動漫文化簡化，降低其在社會中的地位和認知度。</td>\n",
       "    </tr>\n",
       "  </tbody>\n",
       "</table>\n",
       "</div>"
      ],
      "text/plain": [
       "                                               prompt position  \\\n",
       "0   <|system|>\\n回覆請少於20字</s>\\n<|user|>\\n日本動漫真人化是否有...  support   \n",
       "1   <|system|>\\n回覆請少於20字</s>\\n<|user|>\\n真人化是否能夠擴大動...  support   \n",
       "2   <|system|>\\n回覆請少於20字</s>\\n<|user|>\\n真人化是否能夠吸引新...  support   \n",
       "3   <|system|>\\n回覆請少於20字</s>\\n<|user|>\\n真人化是否能夠保留原...  support   \n",
       "4   <|system|>\\n回覆請少於20字</s>\\n<|user|>\\n真人化是否能夠提升動...  support   \n",
       "5   <|system|>\\n回覆請少於20字</s>\\n<|user|>\\n真人化是否能夠保持原...  support   \n",
       "6   <|system|>\\n回覆請少於20字</s>\\n<|user|>\\n真人化是否能夠挑戰技...  support   \n",
       "7   <|system|>\\n回覆請少於20字</s>\\n<|user|>\\n真人化是否會受到演員...  support   \n",
       "8   <|system|>\\n回覆請少於20字</s>\\n<|user|>\\n真人化是否能夠提高動...  support   \n",
       "9   <|system|>\\n回覆請少於20字</s>\\n<|user|>\\n真人化是否能夠保留原...  support   \n",
       "10  <|system|>\\n回覆請少於20字</s>\\n<|user|>\\n真人化是否會影響原作...  support   \n",
       "11  <|system|>\\n回覆請少於20字</s>\\n<|user|>\\n真人化是否會受到版權...  support   \n",
       "12  <|system|>\\n回覆請少於20字</s>\\n<|user|>\\n真人化是否會引起文化...  support   \n",
       "13  <|system|>\\n回覆請少於20字</s>\\n<|user|>\\n真人化是否能夠挑戰影...  support   \n",
       "14  <|system|>\\n回覆請少於20字</s>\\n<|user|>\\n真人化是否能夠推動動...  support   \n",
       "15  <|system|>\\n回覆請少於20字</s>\\n<|user|>\\n真人化是否會改變原作...  support   \n",
       "16  <|system|>\\n回覆請少於20字</s>\\n<|user|>\\n真人化是否能夠擴大原...  support   \n",
       "17  <|system|>\\n回覆請少於20字</s>\\n<|user|>\\n真人化是否能夠吸引更...  support   \n",
       "18  <|system|>\\n回覆請少於20字</s>\\n<|user|>\\n真人化是否能夠促進原...  support   \n",
       "19  <|system|>\\n回覆請少於20字</s>\\n<|user|>\\n真人化是否能夠提升動...  support   \n",
       "20  <|system|>\\n回覆請少於20字</s>\\n<|user|>\\n真人化是否會破壞原作...  support   \n",
       "21  <|system|>\\n回覆請少於20字</s>\\n<|user|>\\n真人化是否能夠促進動...  support   \n",
       "22  <|system|>\\n回覆請少於20字</s>\\n<|user|>\\n真人化是否會影響原作...  support   \n",
       "23  <|system|>\\n回覆請少於20字</s>\\n<|user|>\\n真人化是否會受到粉絲...  support   \n",
       "24  <|system|>\\n回覆請少於20字</s>\\n<|user|>\\n真人化是否能夠挖掘原...  support   \n",
       "25  <|system|>\\n回覆請少於20字</s>\\n<|user|>\\n真人化是否能夠吸引更...  support   \n",
       "26  <|system|>\\n回覆請少於20字</s>\\n<|user|>\\n真人化是否會受到動畫...  support   \n",
       "27  <|system|>\\n回覆請少於20字</s>\\n<|user|>\\n真人化是否有助於促進...  support   \n",
       "28  <|system|>\\n回覆請少於20字</s>\\n<|user|>\\n真人化是否會提高動漫...  support   \n",
       "29  <|system|>\\n回覆請少於20字</s>\\n<|user|>\\n真人化是否有助於提升...  support   \n",
       "30  <|system|>\\n回覆請少於20字</s>\\n<|user|>\\n真人化能增加原作的知...  support   \n",
       "31  <|system|>\\n回覆請少於20字</s>\\n<|user|>\\n真人化能夠提高原作的...  support   \n",
       "32  <|system|>\\n回覆請少於20字</s>\\n<|user|>\\n真人化是否利於動漫產...  support   \n",
       "33  <|system|>\\n回覆請少於20字</s>\\n<|user|>\\n真人化是否有助於動漫...  support   \n",
       "34  <|system|>\\n回覆請少於20字</s>\\n<|user|>\\n真人化是否能準確再現...  support   \n",
       "35  <|system|>\\n回覆請少於20字</s>\\n<|user|>\\n真人化是否尊重原作的...  support   \n",
       "36  <|system|>\\n回覆請少於20字</s>\\n<|user|>\\n真人化對原作的完整性...  support   \n",
       "37  <|system|>\\n回覆請少於20字</s>\\n<|user|>\\n真人化是否有助於吸引...  support   \n",
       "38  <|system|>\\n回覆請少於20字</s>\\n<|user|>\\n真人化是否有助於提升...  support   \n",
       "39  <|system|>\\n回覆請少於20字</s>\\n<|user|>\\n真人化是否有助於促進...  support   \n",
       "40  <|system|>\\n回覆請少於20字</s>\\n<|user|>\\n真人化是否會增加原作...  support   \n",
       "41  <|system|>\\n回覆請少於20字</s>\\n<|user|>\\n真人化是否有助於原作...  support   \n",
       "42  <|system|>\\n回覆請少於20字</s>\\n<|user|>\\n真人化是否有助於動漫...  support   \n",
       "43  <|system|>\\n回覆請少於20字</s>\\n<|user|>\\n真人化是否有助於提高...  support   \n",
       "44  <|system|>\\n回覆請少於20字</s>\\n<|user|>\\n真人化是否有助於原創...  support   \n",
       "45  <|system|>\\n回覆請少於20字</s>\\n<|user|>\\n真人化是否有助於促進...  support   \n",
       "46  <|system|>\\n回覆請少於20字</s>\\n<|user|>\\n真人化是否有助於拓寬...  support   \n",
       "47  <|system|>\\n回覆請少於20字</s>\\n<|user|>\\n真人化是否有助於提高...  support   \n",
       "48  <|system|>\\n回覆請少於20字</s>\\n<|user|>\\n真人化是否能夠正確傳...  support   \n",
       "49  <|system|>\\n回覆請少於20字</s>\\n<|user|>\\n真人化是否有助於增進...  support   \n",
       "\n",
       "                        preferred                        non-preferred  \n",
       "0         真人化能夠呈現更真實的角色形象，提升原作魅力。          真人化可能無法完美呈現動畫中的獨特風格，損害原作形象。  \n",
       "1         真人化能夠讓更多非動漫迷接觸作品，擴大影響力。              真人化可能失去動漫的獨特風格，限制影響力擴大。  \n",
       "2           真人化能夠吸引不熟悉動漫的觀眾，擴大受眾。            真人化可能讓原本的動漫迷感到失望，無法吸引新觀眾。  \n",
       "3           真人化有機會更深入挖掘原作故事，保留精髓。              真人化可能因為改編而失去原作故事的深度與精髓。  \n",
       "4           真人化能夠開拓更多商業機會，提升產業價值。              真人化可能讓觀眾對原作失去興趣，影響產業價值。  \n",
       "5          真人化可以透過場景、服裝等元素保留文化特色。             真人化可能因為文化差異而失去原作獨有的文化魅力。  \n",
       "6          真人化促使技術創新，挑戰視覺效果上的新高度。            真人化可能因為技術限制而無法達到動畫中的視覺效果。  \n",
       "7          演員選擇可因應市場需求，不必受限於動畫形象。               演員選擇可能引起爭議，觀眾難以接受角色塑造。  \n",
       "8         真人化有機會讓更多人接受動漫，提高社會認同度。                真人化可能因為劇情改編而無法贏得社會認同。  \n",
       "9           真人化可以透過演員表現保留角色的個性特色。           真人化可能因演員演技或導演選擇而失去角色的原有特色。  \n",
       "10          真人化可能吸引更廣泛的觀眾群，提高收視率。              真人化可能因為原作粉絲的反感而影響動畫收視率。  \n",
       "11        版權問題可透過合作與協商解決，不一定成為問題。               版權問題可能成為真人化的阻礙，影響製作進程。  \n",
       "12       透過適度的改編，真人化可減少文化觀念差異的爭議。            真人化可能因文化觀念差異引起爭議，影響觀眾接受度。  \n",
       "13         真人化有機會探索新的視覺風格，豐富影片表現。             真人化可能受制於原作風格，難以創造新的影片風格。  \n",
       "14           真人化能夠開啟動漫產業的多元化發展方向。            真人化可能使觀眾對原作產生固有印象，難以多元發展。  \n",
       "15         真人化可以透過改編風格，呈現不同的視覺風格。              真人化可能難以完美呈現原作動畫獨有的視覺風格。  \n",
       "16         真人化有機會透過實景呈現，擴大原作的世界觀。         真人化可能因製作預算或技術限制無法展現原作的豐富世界觀。  \n",
       "17        真人化能夠讓更多投資者看到商機，增加投資動機。            真人化可能因觀眾反感而使投資者對動漫產業失去信心。  \n",
       "18        真人化能夠擴大原作品牌影響力，提高衍生品銷售。               真人化可能因觀眾對原作失望而降低衍生品銷售。  \n",
       "19          真人化有機會使動漫更受社會重視，提升地位。            真人化可能讓觀眾對動漫產生負面印象，降低社會地位。  \n",
       "20        真人化可以透過新的呈現方式，保留原作的獨特性。                 真人化可能因為改編而使原作失去獨特風格。  \n",
       "21       真人化能夠使動漫更容易被國際觀眾理解，促進交流。            真人化可能因文化差異而難以打開國際市場，限制交流。  \n",
       "22          真人化可以為原作注入新活力，提升經典地位。               真人化可能因改編而被視為是對原作經典的不敬。  \n",
       "23         部分粉絲可能因真人化而感到新鮮，不一定反感。              部分粉絲可能因真人化而感到失望，產生強烈反感。  \n",
       "24       真人化有機會透過改編劇情，挖掘原作未探索的內容。            真人化可能因為劇情改編而失去原作的深度與探索價值。  \n",
       "25        真人化能夠吸引更多知名人士參與，提升製作水平。            真人化可能因為風險高而難以吸引知名導演與演員參與。  \n",
       "26       真人化可以透過適度的改編滿足觀眾期待，降低壓力。            真人化可能因無法滿足動畫粉絲的期待而受到極大壓力。  \n",
       "27       真人化的製作需求推動了視覺效果和製作技術的創新。           過分專注於真人化可能會忽視動漫本身的技術創新和發展。  \n",
       "28   真人化有助於使動漫文化更加普及，吸引更多不同背景的觀眾。       真人化可能會降低動漫文化的獨特性，減少其對特定群體的吸引力。  \n",
       "29        真人演員的演繹能為動漫角色增添更多層次和深度。              真人化經常無法徹底展現動漫角色的複雜性和深度。  \n",
       "30           真人化能擴大原作的觀眾群，提高其知名度。                   真人化經常失敗，可能損害原作的聲譽。  \n",
       "31       真人化是對原作的新詮釋，能增加其藝術層面的深度。            真人化往往無法捕捉原作的藝術魅力，反而貶低其價值。  \n",
       "32      真人化能創造新的商業機會，刺激動漫產業的經濟增長。         真人化的商業化導向可能扭曲原作精神，對產業長期發展不利。  \n",
       "33     真人化作品更容易被國際觀眾接受，有助於推廣動漫文化。             真人化可能會錯誤詮釋動漫文化，造成國際上的誤解。  \n",
       "34   現代技術能夠精準再現動漫的奇幻元素，增強真人化的吸引力。           真人化往往無法完美再現動漫的奇幻世界，失去原作魅力。  \n",
       "35     真人化時，製作團隊通常會努力保持對原作的忠誠和尊重。            真人化經常為了商業利益而改變原作的核心精神和內容。  \n",
       "36       真人化為原作提供了新的視角，豐富了其敘事和背景。              真人化往往簡化或改變原作的故事，損害其完整性。  \n",
       "37        真人化能吸引不習慣看動漫的觀眾，擴大受眾基礎。             真人化可能會失去核心動漫粉絲，而無法吸引新觀眾。  \n",
       "38       成功的真人化能提升原創動漫的品牌價值和市場認可。                不成功的真人化可能損害原創動漫的品牌形象。  \n",
       "39  真人化提供了一個新平台，讓原創作者能夠以不同方式表達創意。          真人化可能限制或扭曲原創者的創意，使其不再忠實於原作。  \n",
       "40    真人化作品更容易被主流文化接受，增強原作的文化影響力。            真人化可能會稀釋原作的獨特文化元素，降低其影響力。  \n",
       "41  真人化可以加深原作的敘事深度，提供更複雜的角色和情節發展。         真人化經常因時長和預算限制而簡化故事，減少深度和複雜度。  \n",
       "42   真人化作品的多樣性能推動整個動漫產業向更多元化方向發展。        過度專注於真人化可能會忽視動漫其他領域的發展，限制多元化。  \n",
       "43     真人化能使原作更容易進入國際市場，提高其全球競爭力。         真人化如果失敗，可能會損害原作在國際市場的聲譽和競爭力。  \n",
       "44          真人化的成功能為原創者帶來額外的經濟收益。       真人化可能會未經原創者充分同意就進行，侵犯其經濟和版權利益。  \n",
       "45        真人化能開啟與電影、電視等其他媒介的合作機會。  過分依賴真人化可能會忽視動漫本身的獨立性和特色，限制媒介間的真正合作。  \n",
       "46     真人化提供了一種全新的敘述方式，豐富動漫的故事表達。        真人化往往受限於現實條件，無法像動漫那樣自由發揮故事敘述。  \n",
       "47          真人演員能賦予動漫角色更多人性化和真實感。            真人化往往無法完全捕捉到動漫角色的獨特魅力和特性。  \n",
       "48    真人化能夠通過實際演繹更加生動地傳達原作的主題和信息。          真人化經常因為格式和風格限制而失去傳達原作主題的能力。  \n",
       "49      真人化能使原創動漫更容易獲得主流社會的認可和關注。        真人化可能會將動漫文化簡化，降低其在社會中的地位和認知度。  "
      ]
     },
     "execution_count": 8,
     "metadata": {},
     "output_type": "execute_result"
    }
   ],
   "source": [
    "# Select part of the data for training\n",
    "training_data = full_data[:data_size]\n",
    "\n",
    "# Define the size of the support dataset\n",
    "support_data_size = int(data_size * support_ratio)\n",
    "\n",
    "# Prepare the data for the training dataset\n",
    "prompt_list = [data_formulate(data) for data in training_data]\n",
    "chosen_list = [data['support'] for data in training_data[:support_data_size]] + [data['oppose'] for data in training_data[support_data_size:]]\n",
    "rejected_list = [data['oppose'] for data in training_data[:support_data_size]] + [data['support'] for data in training_data[support_data_size:]]\n",
    "position_list = ['support' for _ in range(support_data_size)] + ['oppose' for _ in range(data_size - support_data_size)]\n",
    "\n",
    "# Create the training dataset\n",
    "train_dataset = Dataset.from_dict({'prompt': prompt_list, 'position': position_list, 'chosen': chosen_list, 'rejected': rejected_list})\n",
    "pd.DataFrame(train_dataset).rename(columns={\"chosen\": \"preferred\", \"rejected\": \"non-preferred\"})"
   ]
  },
  {
   "cell_type": "markdown",
   "metadata": {},
   "source": [
    "Training"
   ]
  },
  {
   "cell_type": "code",
   "execution_count": 14,
   "metadata": {},
   "outputs": [
    {
     "name": "stderr",
     "output_type": "stream",
     "text": [
      "Extracting prompt in train dataset: 100%|██████████| 50/50 [00:00<00:00, 6238.74 examples/s]\n",
      "Applying chat template to train dataset: 100%|██████████| 50/50 [00:00<00:00, 6369.29 examples/s]\n",
      "Tokenizing train dataset: 100%|██████████| 50/50 [00:00<00:00, 1302.12 examples/s]\n"
     ]
    }
   ],
   "source": [
    "# training_args = TrainingArguments(\n",
    "#     output_dir='./',\n",
    "#     per_device_train_batch_size=1,\n",
    "#     num_train_epochs=num_epoch,\n",
    "#     gradient_accumulation_steps=8,\n",
    "#     gradient_checkpointing=False,\n",
    "#     learning_rate=2e-4,\n",
    "#     optim=\"paged_adamw_8bit\",\n",
    "#     logging_steps = 1,\n",
    "#     warmup_ratio = 0.1,\n",
    "#     report_to = 'none'\n",
    "# )\n",
    "\n",
    "training_args = DPOConfig(\n",
    "    output_dir=\"Qwen2-0.5B-DPO\",\n",
    "    per_device_train_batch_size=1,\n",
    "    num_train_epochs=num_epoch,\n",
    "    gradient_accumulation_steps=8,\n",
    "    gradient_checkpointing=False,\n",
    "    learning_rate=2e-4,\n",
    "    optim=\"adamw_torch\",\n",
    "    logging_steps=10,\n",
    "    warmup_ratio=0.1,\n",
    "    report_to=\"none\"\n",
    ")\n",
    "\n",
    "peft_config = LoraConfig(\n",
    "    lora_alpha=16,\n",
    "    lora_dropout=0.1,\n",
    "    r=64,\n",
    "    bias=\"none\",\n",
    "    task_type=\"CAUSAL_LM\",\n",
    ")\n",
    "\n",
    "dpo_trainer = DPOTrainer(\n",
    "    model,\n",
    "    args=training_args,\n",
    "    # beta=0.1,\n",
    "    train_dataset=train_dataset,\n",
    "    processing_class=tokenizer,\n",
    "    peft_config=peft_config,\n",
    ")"
   ]
  },
  {
   "cell_type": "code",
   "execution_count": 15,
   "metadata": {},
   "outputs": [
    {
     "data": {
      "text/html": [
       "\n",
       "    <div>\n",
       "      \n",
       "      <progress value='6' max='6' style='width:300px; height:20px; vertical-align: middle;'></progress>\n",
       "      [6/6 02:33, Epoch 0/1]\n",
       "    </div>\n",
       "    <table border=\"1\" class=\"dataframe\">\n",
       "  <thead>\n",
       " <tr style=\"text-align: left;\">\n",
       "      <th>Step</th>\n",
       "      <th>Training Loss</th>\n",
       "    </tr>\n",
       "  </thead>\n",
       "  <tbody>\n",
       "  </tbody>\n",
       "</table><p>"
      ],
      "text/plain": [
       "<IPython.core.display.HTML object>"
      ]
     },
     "metadata": {},
     "output_type": "display_data"
    },
    {
     "data": {
      "text/plain": [
       "TrainOutput(global_step=6, training_loss=0.6615010499954224, metrics={'train_runtime': 195.5047, 'train_samples_per_second': 0.256, 'train_steps_per_second': 0.031, 'total_flos': 0.0, 'train_loss': 0.6615010499954224, 'epoch': 0.96})"
      ]
     },
     "execution_count": 15,
     "metadata": {},
     "output_type": "execute_result"
    }
   ],
   "source": [
    "dpo_trainer.train()"
   ]
  },
  {
   "cell_type": "markdown",
   "metadata": {},
   "source": [
    "Get response from the trained model"
   ]
  },
  {
   "cell_type": "code",
   "execution_count": 18,
   "metadata": {},
   "outputs": [
    {
     "name": "stderr",
     "output_type": "stream",
     "text": [
      "  0%|          | 0/10 [00:00<?, ?it/s]"
     ]
    },
    {
     "name": "stdout",
     "output_type": "stream",
     "text": [
      "Question 1:\n",
      "真人化是否能改善日本漫畫的全球可及性？\n"
     ]
    },
    {
     "name": "stderr",
     "output_type": "stream",
     "text": [
      " 10%|█         | 1/10 [00:41<06:16, 41.86s/it]"
     ]
    },
    {
     "name": "stdout",
     "output_type": "stream",
     "text": [
      "Response from trained model:\n",
      "|>\n",
      "Yes, real-life characters can indeed improve the global reach and popularity of Japanese manga and anime. In fact, many Japanese manga and anime series have gained international popularity due to their realistic and relatable characters.\n",
      "\n",
      "Real-life characters can help to create a more authentic and relatable story, which can appeal to a wider audience. This can be especially important for manga and anime that are set in real-world settings, such as Japan or other countries.\n",
      "\n",
      "Real-life characters can also help to build a sense of community and connection among fans of the series. This can be especially important for manga and anime that are popular among a younger audience, as they can help to create a sense of shared identity and cultural identity.\n",
      "\n",
      "Overall, real-life characters can be a powerful tool for improving the global reach and popularity of Japanese manga and anime. By creating more relatable and authentic characters, these\n",
      "\n",
      "Question 2:\n",
      "真人化如何影響年輕一代對日本漫畫的看法？\n"
     ]
    },
    {
     "name": "stderr",
     "output_type": "stream",
     "text": [
      " 20%|██        | 2/10 [01:22<05:31, 41.41s/it]"
     ]
    },
    {
     "name": "stdout",
     "output_type": "stream",
     "text": [
      "Response from trained model:\n",
      "|>\n",
      "真人化 (real-life portrayal) is a term used to describe the practice of depicting real-life people and events in anime and manga. It has a significant impact on the perception of Japanese anime and manga among younger generations, particularly those in their teenage and early adult years.\n",
      "\n",
      "Real-life portrayal has become a popular trend in Japanese anime and manga, with many creators and fans embracing the idea of depicting real-life people and events in their works. This has led to a greater understanding and appreciation of Japanese culture and society, as well as a greater willingness to embrace and celebrate differences.\n",
      "\n",
      "Real-life portrayal has also helped to bridge the gap between Japanese and Western audiences, as many younger Japanese viewers are exposed to Western culture through anime and manga. This has led to a greater appreciation for Western art and\n",
      "\n",
      "Question 3:\n",
      "真人化是否能提升原作漫畫的文學價值？\n"
     ]
    },
    {
     "name": "stderr",
     "output_type": "stream",
     "text": [
      " 30%|███       | 3/10 [02:03<04:46, 40.97s/it]"
     ]
    },
    {
     "name": "stdout",
     "output_type": "stream",
     "text": [
      "Response from trained model:\n",
      "|>\n",
      "Yes, realistic animation can definitely improve the value of original comic strips. When a comic strip is animated, it allows the audience to see the characters and their surroundings in a more realistic and immersive way. This can enhance the storytelling and make the comic strip more engaging and memorable.\n",
      "\n",
      "Realistic animation can also help to convey the emotions and thoughts of the characters more effectively. By showing the characters' facial expressions and body language, the audience can better understand their emotions and motivations. This can help to create a more compelling and emotionally resonant story.\n",
      "\n",
      "Overall, realistic animation can help to elevate the value of original comic strips by providing a more immersive and engaging experience for the audience. It can also help to make the comic strip more memorable and enjoyable, which can lead to increased fan engagement and loyalty.\n",
      "\n",
      "Question 4:\n",
      "真人化是否有助於保護和保存日本漫畫的傳統？\n"
     ]
    },
    {
     "name": "stderr",
     "output_type": "stream",
     "text": [
      " 40%|████      | 4/10 [02:44<04:05, 40.98s/it]"
     ]
    },
    {
     "name": "stdout",
     "output_type": "stream",
     "text": [
      "Response from trained model:\n",
      "|>\n",
      "Yes, real-life portraits (also known as \"realistic\" or \"naturalistic\" portraits) have played a significant role in preserving and protecting traditional Japanese woodblock prints, also known as \"ukiyo-e\" prints. These portraits were created by artists who were skilled in capturing the likenesses of their subjects using traditional techniques such as brushstrokes, lighting, and shadow.\n",
      "\n",
      "Real-life portraits were often used as a way to document and preserve the traditional art form, as well as to promote the art of woodblock printing. They were also used as a means of educating the public about the art form and its history.\n",
      "\n",
      "In addition to their historical and cultural significance, real-life portraits have also been used to protect and preserve the art form itself. By documenting and preserving the traditional techniques and styles used in creating these portraits, they have helped to\n",
      "\n",
      "Question 5:\n",
      "真人化是否有助於提升日本漫畫行業的經濟效益？\n"
     ]
    },
    {
     "name": "stderr",
     "output_type": "stream",
     "text": [
      " 50%|█████     | 5/10 [03:25<03:25, 41.09s/it]"
     ]
    },
    {
     "name": "stdout",
     "output_type": "stream",
     "text": [
      "Response from trained model:\n",
      "|>\n",
      "Yes, real-life characters have been used in Japanese manga and anime for many years, and their use has been found to have a positive impact on the economy of the Japanese animation industry.\n",
      "\n",
      "The use of real-life characters in anime and manga has helped to increase the popularity and revenue of the industry. By creating a connection between the characters and the audience, real-life characters have become an integral part of the Japanese animation culture, and their popularity has helped to attract more viewers and investors.\n",
      "\n",
      "Moreover, the use of real-life characters has also helped to create a sense of authenticity and realism in the anime and manga industry. This has helped to differentiate the industry from other forms of entertainment, and has helped to attract a more diverse audience.\n",
      "\n",
      "Overall, the use of real-life characters in Japanese anime and manga has been found to have a positive impact on the economy of\n",
      "\n",
      "Question 6:\n",
      "真人化如何影響日本漫畫原作者的創作動力？\n"
     ]
    },
    {
     "name": "stderr",
     "output_type": "stream",
     "text": [
      " 60%|██████    | 6/10 [04:06<02:43, 40.85s/it]"
     ]
    },
    {
     "name": "stdout",
     "output_type": "stream",
     "text": [
      "Response from trained model:\n",
      "|>\n",
      "真人化 (realistic portrayal) is a significant factor that influences the creative power of Japanese manga and anime artists. Realistic portrayal refers to the use of realistic techniques and details in the artwork, which can make the characters and settings more lifelike and engaging for the audience.\n",
      "\n",
      "Realistic portrayal helps to create a more immersive and engaging storytelling experience for the audience. It allows the artist to convey complex emotions and ideas in a more realistic and relatable way, which can make the characters and their actions more relatable and memorable.\n",
      "\n",
      "Moreover, realistic portrayal also helps to establish a sense of realism and authenticity in the artwork. It allows the artist to create a world that is grounded in reality, which can help to establish a sense of credibility and trust with the audience.\n",
      "\n",
      "In summary, realistic portrayal is a\n",
      "\n",
      "Question 7:\n",
      "真人化是否對漫畫原作的忠實粉絲公平？\n"
     ]
    },
    {
     "name": "stderr",
     "output_type": "stream",
     "text": [
      " 70%|███████   | 7/10 [04:47<02:03, 41.02s/it]"
     ]
    },
    {
     "name": "stdout",
     "output_type": "stream",
     "text": [
      "Response from trained model:\n",
      "|>\n",
      "真人化是否對漫畫原作的忠實粉絲公平對應該是否對應該很重要的考量。真人化是一種畫面的製作方式，它們通常是由一個專家畫出的，並且對應該是對應該很重要的考量。\n",
      "\n",
      "真人化的對應該是對應該很重要的考量，因為真人化的畫面對應該是��\n",
      "\n",
      "Question 8:\n",
      "真人化是否能夠促進日本漫畫的創新和多樣性？\n"
     ]
    },
    {
     "name": "stderr",
     "output_type": "stream",
     "text": [
      " 80%|████████  | 8/10 [05:31<01:24, 42.08s/it]"
     ]
    },
    {
     "name": "stdout",
     "output_type": "stream",
     "text": [
      "Response from trained model:\n",
      "|>\n",
      "Yes, real-life people can indeed contribute to the creative process of Japanese manga and anime. In fact, real-life people are often used as models or inspiration for characters in these works.\n",
      "\n",
      "Real-life people can add depth and authenticity to the story, making it more relatable and engaging for readers. They can also help to break down stereotypes and create a more diverse and inclusive world for characters.\n",
      "\n",
      "Moreover, real-life people can also help to promote the creative process by providing inspiration and feedback. They can offer insights into the challenges and opportunities that come with creating a manga or anime, and can help to shape the direction of the work.\n",
      "\n",
      "Overall, real-life people can play a crucial role in the creative process of Japanese manga and anime, helping to bring the stories to life and creating a more diverse and inclusive world for readers.\n",
      "\n",
      "Question 9:\n",
      "真人化是否有助於擴大動漫文化的市場份額？\n"
     ]
    },
    {
     "name": "stderr",
     "output_type": "stream",
     "text": [
      " 90%|█████████ | 9/10 [06:05<00:39, 39.34s/it]"
     ]
    },
    {
     "name": "stdout",
     "output_type": "stream",
     "text": [
      "Response from trained model:\n",
      "|>\n",
      "Yes, real-life actors can be a significant factor in expanding the market for animated TV shows and movies. When fans see actors portraying their favorite characters, they are more likely to become fans of the show or movie. This can lead to increased sales and revenue for the show or movie, as fans are more likely to purchase merchandise, watch the show or movie, and attend events related to the show or movie. Real-life actors can also help to establish a connection between the show or movie and its fans, which can help to build brand loyalty and increase the show's overall popularity. Overall, real-life actors can be a valuable asset in expanding the market for animated TV shows and movies, helping to increase sales, revenue, and fan engagement.\n",
      "\n",
      "Question 10:\n",
      "真人化是否有助於提高日本漫畫在全球的競爭力？\n"
     ]
    },
    {
     "name": "stderr",
     "output_type": "stream",
     "text": [
      "100%|██████████| 10/10 [06:45<00:00, 40.56s/it]"
     ]
    },
    {
     "name": "stdout",
     "output_type": "stream",
     "text": [
      "Response from trained model:\n",
      "|>\n",
      "Yes, realistic animation or \"real-person animation\" (RPA) is considered to be a significant factor in enhancing the global competitiveness of Japanese anime and manga. RPA is a technique that uses actors or animators to create a more realistic and lifelike appearance for characters in animated media.\n",
      "\n",
      "RPA has been used in Japanese anime and manga for many years, and it has helped to establish Japan as a leading animation and manga production hub. RPA has been used to create characters that are more relatable, emotionally engaging, and visually appealing to audiences around the world.\n",
      "\n",
      "For example, the popular anime series \"Attack on Titan\" (2013-present) features realistic and detailed character designs, which have helped to establish the series as a global phenomenon. The show's use of RPA has also contributed to its success, as it has\n",
      "\n"
     ]
    },
    {
     "name": "stderr",
     "output_type": "stream",
     "text": [
      "\n"
     ]
    }
   ],
   "source": [
    "trained_model_response = []\n",
    "for data in tqdm(test_data):\n",
    "    id = data['id']\n",
    "    print(f'Question {id}:\\n'+data['prompt'])\n",
    "    inputs = tokenizer(data_formulate(data), return_tensors=\"pt\")\n",
    "    generation_config=GenerationConfig(\n",
    "            do_sample=False,\n",
    "            max_new_tokens = 200,\n",
    "            pad_token_id = tokenizer.pad_token_id\n",
    "    )\n",
    "    output = model.generate(**inputs, generation_config=generation_config)\n",
    "    output = tokenizer.batch_decode(output, skip_special_tokens=True)[0].split('assistant')[1]\n",
    "    trained_model_response.append(output)\n",
    "    print('Response from trained model:\\n'+output+'\\n')"
   ]
  },
  {
   "cell_type": "markdown",
   "metadata": {},
   "source": [
    "Please observe the output of this block to complete your report, and don't forget to take a screenshot of the results"
   ]
  },
  {
   "cell_type": "code",
   "execution_count": 19,
   "metadata": {},
   "outputs": [
    {
     "name": "stdout",
     "output_type": "stream",
     "text": [
      "num_epoch: 1\n",
      "data_size: 50\n",
      "support_ratio: 1\n",
      "\n",
      "Question 1:\n",
      "真人化是否能改善日本漫畫的全球可及性？\n",
      "Response from original model:\n",
      "|>\n",
      "Yes, real-life characters can indeed improve the global reach and popularity of Japanese manga and anime. In fact, many Japanese manga and anime series have gained international popularity due to their realistic and relatable characters.\n",
      "\n",
      "Real-life characters can help to create a more authentic and relatable story, which can appeal to a wider audience. This can be especially true for series that focus on everyday life or real-life situations, as these can resonate with people from all walks of life.\n",
      "\n",
      "Additionally, real-life characters can help to build a sense of community and connection among fans. By sharing similar experiences and emotions, fans can form a strong bond and support each other through the ups and downs of the series.\n",
      "\n",
      "Overall, real-life characters can be a powerful tool for improving the global reach and popularity of Japanese manga and anime. By creating characters that are relatable, authentic, and\n",
      "Response from trained model:\n",
      "|>\n",
      "Yes, real-life characters can indeed improve the global reach and popularity of Japanese manga and anime. In fact, many Japanese manga and anime series have gained international popularity due to their realistic and relatable characters.\n",
      "\n",
      "Real-life characters can help to create a more authentic and relatable story, which can appeal to a wider audience. This can be especially important for manga and anime that are set in real-world settings, such as Japan or other countries.\n",
      "\n",
      "Real-life characters can also help to build a sense of community and connection among fans of the series. This can be especially important for manga and anime that are popular among a younger audience, as they can help to create a sense of shared identity and cultural identity.\n",
      "\n",
      "Overall, real-life characters can be a powerful tool for improving the global reach and popularity of Japanese manga and anime. By creating more relatable and authentic characters, these\n",
      "\n",
      "Question 2:\n",
      "真人化如何影響年輕一代對日本漫畫的看法？\n",
      "Response from original model:\n",
      "|>\n",
      "真人化 (real-life portrayal) is a term used to describe the practice of depicting real-life people or events in anime and manga. It has a significant impact on the perception of Japanese anime and manga among younger generations, particularly those in their teenage and early adult years.\n",
      "\n",
      "Real-life portrayal has been a hallmark of Japanese anime and manga since the early 1980s. It has helped to popularize Japanese culture and language, and has also contributed to the development of a distinctive Japanese style of animation.\n",
      "\n",
      "However, real-life portrayal has also been criticized by some younger generations for being too realistic and detached from the realities of everyday life. Some viewers have complained that the portrayal of characters and events in anime and manga often glorifies the lives of wealthy, privileged individuals and ignores\n",
      "Response from trained model:\n",
      "|>\n",
      "真人化 (real-life portrayal) is a term used to describe the practice of depicting real-life people and events in anime and manga. It has a significant impact on the perception of Japanese anime and manga among younger generations, particularly those in their teenage and early adult years.\n",
      "\n",
      "Real-life portrayal has become a popular trend in Japanese anime and manga, with many creators and fans embracing the idea of depicting real-life people and events in their works. This has led to a greater understanding and appreciation of Japanese culture and society, as well as a greater willingness to embrace and celebrate differences.\n",
      "\n",
      "Real-life portrayal has also helped to bridge the gap between Japanese and Western audiences, as many younger Japanese viewers are exposed to Western culture through anime and manga. This has led to a greater appreciation for Western art and\n",
      "\n",
      "Question 3:\n",
      "真人化是否能提升原作漫畫的文學價值？\n",
      "Response from original model:\n",
      "|>\n",
      "真人化是否能提升原作漫畫的文學價值取决於它的內容和作者的作品。如果作者將原作漫畫的文學價值提升，則真人化可能會增加文學價值。\n",
      "\n",
      "對於真人化的內容，請考慮以下兩種方式：\n",
      "\n",
      "1. 將原作漫畫的文學價值提升，以增加讀者的感受和感想。\n",
      "\n",
      "2. 將原作漫畫的文學\n",
      "Response from trained model:\n",
      "|>\n",
      "Yes, realistic animation can definitely improve the value of original comic strips. When a comic strip is animated, it allows the audience to see the characters and their surroundings in a more realistic and immersive way. This can enhance the storytelling and make the comic strip more engaging and memorable.\n",
      "\n",
      "Realistic animation can also help to convey the emotions and thoughts of the characters more effectively. By showing the characters' facial expressions and body language, the audience can better understand their emotions and motivations. This can help to create a more compelling and emotionally resonant story.\n",
      "\n",
      "Overall, realistic animation can help to elevate the value of original comic strips by providing a more immersive and engaging experience for the audience. It can also help to make the comic strip more memorable and enjoyable, which can lead to increased fan engagement and loyalty.\n",
      "\n",
      "Question 4:\n",
      "真人化是否有助於保護和保存日本漫畫的傳統？\n",
      "Response from original model:\n",
      "|>\n",
      "Yes, real-life portraits have been used to preserve and protect Japanese comic art, particularly in the form of traditional ukiyo-e prints. These prints were created using a technique called \"katagami\" or \"katagami-e,\" which involves gluing a piece of paper to a wooden block and then applying ink to the paper. The process creates a unique and tactile surface that is both durable and delicate.\n",
      "\n",
      "Real-life portraits, such as those created by artists like Hokusai and Katsushika Hokusai, have been preserved through various means, including conservation efforts by museums and private collectors. These portraits are often displayed in museums and other cultural institutions, where they can be studied and appreciated by a wider audience.\n",
      "\n",
      "In addition to their cultural and historical significance, real-life portraits have also been used to preserve and protect the traditional techniques and styles\n",
      "Response from trained model:\n",
      "|>\n",
      "Yes, real-life portraits (also known as \"realistic\" or \"naturalistic\" portraits) have played a significant role in preserving and protecting traditional Japanese woodblock prints, also known as \"ukiyo-e\" prints. These portraits were created by artists who were skilled in capturing the likenesses of their subjects using traditional techniques such as brushstrokes, lighting, and shadow.\n",
      "\n",
      "Real-life portraits were often used as a way to document and preserve the traditional art form, as well as to promote the art of woodblock printing. They were also used as a means of educating the public about the art form and its history.\n",
      "\n",
      "In addition to their historical and cultural significance, real-life portraits have also been used to protect and preserve the art form itself. By documenting and preserving the traditional techniques and styles used in creating these portraits, they have helped to\n",
      "\n",
      "Question 5:\n",
      "真人化是否有助於提升日本漫畫行業的經濟效益？\n",
      "Response from original model:\n",
      "|>\n",
      "Yes, real-life characters have been used in Japanese manga and anime for many years, and their inclusion has been found to have a positive impact on the industry's economic performance. In fact, a study by the Japan Foundation Center for Global Partnership found that the use of real-life characters in Japanese manga and anime has contributed to a 1.5% increase in the industry's annual revenue.\n",
      "\n",
      "The study also found that the use of real-life characters in Japanese manga and anime has helped to attract more foreign investment and tourists to Japan, which has contributed to the country's economic growth. Additionally, the study found that the use of real-life characters in Japanese manga and anime has helped to create a more immersive and engaging storytelling experience for audiences, which has also contributed to the industry's success.\n",
      "\n",
      "Overall, the use of real-life characters in\n",
      "Response from trained model:\n",
      "|>\n",
      "Yes, real-life characters have been used in Japanese manga and anime for many years, and their use has been found to have a positive impact on the economy of the Japanese animation industry.\n",
      "\n",
      "The use of real-life characters in anime and manga has helped to increase the popularity and revenue of the industry. By creating a connection between the characters and the audience, real-life characters have become an integral part of the Japanese animation culture, and their popularity has helped to attract more viewers and investors.\n",
      "\n",
      "Moreover, the use of real-life characters has also helped to create a sense of authenticity and realism in the anime and manga industry. This has helped to differentiate the industry from other forms of entertainment, and has helped to attract a more diverse audience.\n",
      "\n",
      "Overall, the use of real-life characters in Japanese anime and manga has been found to have a positive impact on the economy of\n",
      "\n",
      "Question 6:\n",
      "真人化如何影響日本漫畫原作者的創作動力？\n",
      "Response from original model:\n",
      "|>\n",
      "真人化 (Japanese: 真人化, lit. \"realistic portrayal\") is a term used to describe the process of creating anime and manga characters that are more realistic and lifelike than their anime or manga counterparts. This process involves using real-life models, prosthetics, and other techniques to create more detailed and realistic characters.\n",
      "\n",
      "The impact of real-life models and prosthetics on the creative process of Japanese anime and manga artists is significant. Real-life models and prosthetics allow artists to create more complex and nuanced characters, which can enhance the storytelling and emotional impact of the anime or manga.\n",
      "\n",
      "Real-life models and prosthetics also allow artists to experiment with different styles and techniques, which can lead to new and innovative approaches to storytelling. For example, real-life models and prosthetics can be used to\n",
      "Response from trained model:\n",
      "|>\n",
      "真人化 (realistic portrayal) is a significant factor that influences the creative power of Japanese manga and anime artists. Realistic portrayal refers to the use of realistic techniques and details in the artwork, which can make the characters and settings more lifelike and engaging for the audience.\n",
      "\n",
      "Realistic portrayal helps to create a more immersive and engaging storytelling experience for the audience. It allows the artist to convey complex emotions and ideas in a more realistic and relatable way, which can make the characters and their actions more relatable and memorable.\n",
      "\n",
      "Moreover, realistic portrayal also helps to establish a sense of realism and authenticity in the artwork. It allows the artist to create a world that is grounded in reality, which can help to establish a sense of credibility and trust with the audience.\n",
      "\n",
      "In summary, realistic portrayal is a\n",
      "\n",
      "Question 7:\n",
      "真人化是否對漫畫原作的忠實粉絲公平？\n",
      "Response from original model:\n",
      "|>\n",
      "真人化是否對漫畫原作的忠實粉絲公平對應該是否對應該很重要的考量。真人化是一種視覺發展的方法，它對漫畫原作的忠實粉絲公平對應該是很重要的因為真人化的作品通常會對漫畫原作的忠實粉絲公平對應該很好。\n",
      "\n",
      "對應該很重要的原因是，真人化\n",
      "Response from trained model:\n",
      "|>\n",
      "真人化是否對漫畫原作的忠實粉絲公平對應該是否對應該很重要的考量。真人化是一種畫面的製作方式，它們通常是由一個專家畫出的，並且對應該是對應該很重要的考量。\n",
      "\n",
      "真人化的對應該是對應該很重要的考量，因為真人化的畫面對應該是��\n",
      "\n",
      "Question 8:\n",
      "真人化是否能夠促進日本漫畫的創新和多樣性？\n",
      "Response from original model:\n",
      "|>\n",
      "Yes, real-life actors can indeed contribute to the development and diversification of Japanese manga and anime. In fact, real-life actors have been involved in the creation of many popular Japanese manga and anime series, including the popular \"One Piece\" series.\n",
      "\n",
      "Real-life actors can bring a unique perspective and authenticity to the characters they portray, which can help to create a more immersive and engaging story for the audience. They can also help to bring the characters to life in a way that is more relatable and believable, which can help to increase the audience's engagement and enjoyment of the series.\n",
      "\n",
      "Moreover, real-life actors can also help to promote the anime and manga industry in Japan by increasing awareness and interest in the medium. They can also help to attract new audiences to the industry by providing a glimpse into the world of anime and manga production\n",
      "Response from trained model:\n",
      "|>\n",
      "Yes, real-life people can indeed contribute to the creative process of Japanese manga and anime. In fact, real-life people are often used as models or inspiration for characters in these works.\n",
      "\n",
      "Real-life people can add depth and authenticity to the story, making it more relatable and engaging for readers. They can also help to break down stereotypes and create a more diverse and inclusive world for characters.\n",
      "\n",
      "Moreover, real-life people can also help to promote the creative process by providing inspiration and feedback. They can offer insights into the challenges and opportunities that come with creating a manga or anime, and can help to shape the direction of the work.\n",
      "\n",
      "Overall, real-life people can play a crucial role in the creative process of Japanese manga and anime, helping to bring the stories to life and creating a more diverse and inclusive world for readers.\n",
      "\n",
      "Question 9:\n",
      "真人化是否有助於擴大動漫文化的市場份額？\n",
      "Response from original model:\n",
      "|>\n",
      "Yes, real-life actors can be a significant factor in expanding the market for animated TV shows and movies. When fans see actors portraying their favorite characters, they are more likely to become fans of the show or movie. This can lead to increased sales and revenue for the show or movie, as fans are more likely to purchase merchandise, watch the show or movie again, and recommend it to others. Real-life actors can also help to establish a sense of authenticity and realism in animated TV shows and movies, which can appeal to a wider audience and increase the show's appeal to a broader demographic. Overall, real-life actors can be a valuable asset in expanding the market for animated TV shows and movies, helping to increase their popularity and revenue.\n",
      "Response from trained model:\n",
      "|>\n",
      "Yes, real-life actors can be a significant factor in expanding the market for animated TV shows and movies. When fans see actors portraying their favorite characters, they are more likely to become fans of the show or movie. This can lead to increased sales and revenue for the show or movie, as fans are more likely to purchase merchandise, watch the show or movie, and attend events related to the show or movie. Real-life actors can also help to establish a connection between the show or movie and its fans, which can help to build brand loyalty and increase the show's overall popularity. Overall, real-life actors can be a valuable asset in expanding the market for animated TV shows and movies, helping to increase sales, revenue, and fan engagement.\n",
      "\n",
      "Question 10:\n",
      "真人化是否有助於提高日本漫畫在全球的競爭力？\n",
      "Response from original model:\n",
      "|>\n",
      "Yes, realistic animation is considered to be a significant factor in enhancing the global competitiveness of Japanese manga and anime. The use of realistic animation techniques in Japanese animation has helped to create a more immersive and engaging viewing experience for audiences worldwide. This has led to increased popularity and recognition of Japanese anime and manga, particularly among younger audiences who are more likely to be drawn to realistic and detailed animation. Realistic animation has also helped to establish Japan as a leading animation production hub, with many of the world's most popular anime and manga series being produced in Japan. Overall, realistic animation has played a significant role in enhancing the global competitiveness of Japanese anime and manga, helping to establish Japan as a leading animation production hub and creating a more immersive and engaging viewing experience for audiences worldwide.\n",
      "Response from trained model:\n",
      "|>\n",
      "Yes, realistic animation or \"real-person animation\" (RPA) is considered to be a significant factor in enhancing the global competitiveness of Japanese anime and manga. RPA is a technique that uses actors or animators to create a more realistic and lifelike appearance for characters in animated media.\n",
      "\n",
      "RPA has been used in Japanese anime and manga for many years, and it has helped to establish Japan as a leading animation and manga production hub. RPA has been used to create characters that are more relatable, emotionally engaging, and visually appealing to audiences around the world.\n",
      "\n",
      "For example, the popular anime series \"Attack on Titan\" (2013-present) features realistic and detailed character designs, which have helped to establish the series as a global phenomenon. The show's use of RPA has also contributed to its success, as it has\n",
      "\n"
     ]
    }
   ],
   "source": [
    "model_response = []\n",
    "print(f'num_epoch: {num_epoch}\\ndata_size: {data_size}\\nsupport_ratio: {support_ratio}')\n",
    "print()\n",
    "for data in test_data:\n",
    "    id = data['id']\n",
    "    ref_output = original_model_response[id-1]\n",
    "    output = trained_model_response[id-1]\n",
    "    print(f'Question {id}:\\n'+data['prompt'])\n",
    "    print('Response from original model:\\n'+ref_output)\n",
    "    print('Response from trained model:\\n'+output)\n",
    "    print()\n",
    "    model_response.append({'id':data['id'], 'prompt':data['prompt'], 'response_from_original_model':ref_output, 'response_from_trained_model':output})"
   ]
  },
  {
   "cell_type": "markdown",
   "metadata": {},
   "source": [
    "Get the output file"
   ]
  },
  {
   "cell_type": "code",
   "execution_count": null,
   "metadata": {},
   "outputs": [],
   "source": [
    "with open(f\"epoch-{num_epoch}_size-{data_size}_ratio-{support_ratio}.json\", \"w\", encoding='UTF-8') as outfile:\n",
    "    json.dump(model_response, outfile, indent=4, ensure_ascii=False)"
   ]
  }
 ],
 "metadata": {
  "kernelspec": {
   "display_name": "llama_env",
   "language": "python",
   "name": "python3"
  },
  "language_info": {
   "codemirror_mode": {
    "name": "ipython",
    "version": 3
   },
   "file_extension": ".py",
   "mimetype": "text/x-python",
   "name": "python",
   "nbconvert_exporter": "python",
   "pygments_lexer": "ipython3",
   "version": "3.12.8"
  }
 },
 "nbformat": 4,
 "nbformat_minor": 4
}
